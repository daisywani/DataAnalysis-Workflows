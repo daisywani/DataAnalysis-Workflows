{
 "cells": [
  {
   "cell_type": "code",
   "execution_count": 1,
   "metadata": {},
   "outputs": [
    {
     "name": "stderr",
     "output_type": "stream",
     "text": [
      "Matplotlib is building the font cache; this may take a moment.\n"
     ]
    }
   ],
   "source": [
    "# Cell 1\n",
    "import pandas as pd\n",
    "import matplotlib.pyplot as plt\n",
    "import seaborn as sb\n",
    "from numpy.random import RandomState\n",
    "from sklearn.model_selection import train_test_split\n",
    "from sklearn.tree import DecisionTreeClassifier, export_text\n",
    "from sklearn.metrics import accuracy_score, confusion_matrix"
   ]
  },
  {
   "cell_type": "markdown",
   "metadata": {},
   "source": [
    "In this cell, i will be data loading the world dataset is loaded. Index will be stored as a variable to verify that sampling worked (more on this later)."
   ]
  },
  {
   "cell_type": "code",
   "execution_count": 2,
   "metadata": {},
   "outputs": [
    {
     "name": "stdout",
     "output_type": "stream",
     "text": [
      "  Organization Fiscal Year  Commitments (total) (US$, millions)  \\\n",
      "0         IBRD        FY06                                14135   \n",
      "1         IBRD        FY07                                12829   \n",
      "2         IBRD        FY08                                13468   \n",
      "3         IBRD        FY09                                32911   \n",
      "4         IBRD        FY10                                44197   \n",
      "\n",
      "   Commitments (development policy lending) (US$, millions)  \\\n",
      "0                                               4906          \n",
      "1                                               3635          \n",
      "2                                               3967          \n",
      "3                                              15532          \n",
      "4                                              20588          \n",
      "\n",
      "   Gross Disbursements (total) (US$, millions)  \\\n",
      "0                                        11833   \n",
      "1                                        11055   \n",
      "2                                        10490   \n",
      "3                                        18565   \n",
      "4                                        28855   \n",
      "\n",
      "   Gross Disbursements (development policy lending) (US$, millions)  \\\n",
      "0                                               5406                  \n",
      "1                                               4096                  \n",
      "2                                               3485                  \n",
      "3                                               9138                  \n",
      "4                                              17425                  \n",
      "\n",
      "   Principal Repayments (including prepayments) (US$, millions)  \\\n",
      "0                                              13600              \n",
      "1                                              17231              \n",
      "2                                              12610              \n",
      "3                                              10217              \n",
      "4                                              11624              \n",
      "\n",
      "   Net Disbursements (US$, millions)  Loans Outstanding (US$, millions)  \\\n",
      "0                            -1767.0                           103004.0   \n",
      "1                            -6176.0                            97805.0   \n",
      "2                            -2120.0                            99050.0   \n",
      "3                             8345.0                           105698.0   \n",
      "4                            17230.0                           120103.0   \n",
      "\n",
      "   Undisbursed Loans (US$, millions)  Credits Outstanding (US$, millions)  \\\n",
      "0                            34938.0                                  NaN   \n",
      "1                            35440.0                                  NaN   \n",
      "2                            38176.0                                  NaN   \n",
      "3                            51125.0                                  NaN   \n",
      "4                            63574.0                                  NaN   \n",
      "\n",
      "   Undisbursed Credits (US$, millions)  Undisbursed Grants (US$, millions)  \\\n",
      "0                                  NaN                                 NaN   \n",
      "1                                  NaN                                 NaN   \n",
      "2                                  NaN                                 NaN   \n",
      "3                                  NaN                                 NaN   \n",
      "4                                  NaN                                 NaN   \n",
      "\n",
      "   Development Grant Expenses (US$, millions)  \\\n",
      "0                                         NaN   \n",
      "1                                         NaN   \n",
      "2                                         NaN   \n",
      "3                                         NaN   \n",
      "4                                         NaN   \n",
      "\n",
      "   Operating Income (US$, millions)  \\\n",
      "0                            1740.0   \n",
      "1                            1659.0   \n",
      "2                            2271.0   \n",
      "3                             572.0   \n",
      "4                             800.0   \n",
      "\n",
      "   Usable Capital and Reserves (US$, millions)  Equity-to-Loans Ratio  \n",
      "0                                      33339.0                 0.3296  \n",
      "1                                      33754.0                 0.3505  \n",
      "2                                      36888.0                 0.3762  \n",
      "3                                      36328.0                 0.3428  \n",
      "4                                      36106.0                 0.2937  \n"
     ]
    }
   ],
   "source": [
    "import pandas as pd\n",
    "world = pd.read_csv('C:/Users/daisy/Desktop/data/world.csv')\n",
    "print(world.head())"
   ]
  },
  {
   "cell_type": "code",
   "execution_count": null,
   "metadata": {},
   "outputs": [],
   "source": []
  }
 ],
 "metadata": {
  "kernelspec": {
   "display_name": "Python 3",
   "language": "python",
   "name": "python3"
  },
  "language_info": {
   "codemirror_mode": {
    "name": "ipython",
    "version": 3
   },
   "file_extension": ".py",
   "mimetype": "text/x-python",
   "name": "python",
   "nbconvert_exporter": "python",
   "pygments_lexer": "ipython3",
   "version": "3.7.1"
  }
 },
 "nbformat": 4,
 "nbformat_minor": 4
}
