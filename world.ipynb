{
 "cells": [
  {
   "cell_type": "code",
   "execution_count": 1,
   "metadata": {},
   "outputs": [],
   "source": [
    "# Cell 1\n",
    "import pandas as pd\n",
    "import matplotlib.pyplot as plt\n",
    "import seaborn as sb\n",
    "from numpy.random import RandomState\n",
    "from sklearn.model_selection import train_test_split\n",
    "from sklearn.tree import DecisionTreeClassifier, export_text\n",
    "from sklearn.metrics import accuracy_score, confusion_matrix"
   ]
  },
  {
   "cell_type": "markdown",
   "metadata": {},
   "source": [
    "In this cell, i will be data loading the world dataset is loaded. Index will be stored as a variable to verify that sampling worked (more on this later)."
   ]
  },
  {
   "cell_type": "code",
   "execution_count": 2,
   "metadata": {},
   "outputs": [
    {
     "name": "stdout",
     "output_type": "stream",
     "text": [
      "  Organization Fiscal Year  Commitments (total) (US$, millions)  \\\n",
      "0         IBRD        FY06                                14135   \n",
      "1         IBRD        FY07                                12829   \n",
      "2         IBRD        FY08                                13468   \n",
      "3         IBRD        FY09                                32911   \n",
      "4         IBRD        FY10                                44197   \n",
      "\n",
      "   Commitments (development policy lending) (US$, millions)  \\\n",
      "0                                               4906          \n",
      "1                                               3635          \n",
      "2                                               3967          \n",
      "3                                              15532          \n",
      "4                                              20588          \n",
      "\n",
      "   Gross Disbursements (total) (US$, millions)  \\\n",
      "0                                        11833   \n",
      "1                                        11055   \n",
      "2                                        10490   \n",
      "3                                        18565   \n",
      "4                                        28855   \n",
      "\n",
      "   Gross Disbursements (development policy lending) (US$, millions)  \\\n",
      "0                                               5406                  \n",
      "1                                               4096                  \n",
      "2                                               3485                  \n",
      "3                                               9138                  \n",
      "4                                              17425                  \n",
      "\n",
      "   Principal Repayments (including prepayments) (US$, millions)  \\\n",
      "0                                              13600              \n",
      "1                                              17231              \n",
      "2                                              12610              \n",
      "3                                              10217              \n",
      "4                                              11624              \n",
      "\n",
      "   Net Disbursements (US$, millions)  Loans Outstanding (US$, millions)  \\\n",
      "0                            -1767.0                           103004.0   \n",
      "1                            -6176.0                            97805.0   \n",
      "2                            -2120.0                            99050.0   \n",
      "3                             8345.0                           105698.0   \n",
      "4                            17230.0                           120103.0   \n",
      "\n",
      "   Undisbursed Loans (US$, millions)  Credits Outstanding (US$, millions)  \\\n",
      "0                            34938.0                                  NaN   \n",
      "1                            35440.0                                  NaN   \n",
      "2                            38176.0                                  NaN   \n",
      "3                            51125.0                                  NaN   \n",
      "4                            63574.0                                  NaN   \n",
      "\n",
      "   Undisbursed Credits (US$, millions)  Undisbursed Grants (US$, millions)  \\\n",
      "0                                  NaN                                 NaN   \n",
      "1                                  NaN                                 NaN   \n",
      "2                                  NaN                                 NaN   \n",
      "3                                  NaN                                 NaN   \n",
      "4                                  NaN                                 NaN   \n",
      "\n",
      "   Development Grant Expenses (US$, millions)  \\\n",
      "0                                         NaN   \n",
      "1                                         NaN   \n",
      "2                                         NaN   \n",
      "3                                         NaN   \n",
      "4                                         NaN   \n",
      "\n",
      "   Operating Income (US$, millions)  \\\n",
      "0                            1740.0   \n",
      "1                            1659.0   \n",
      "2                            2271.0   \n",
      "3                             572.0   \n",
      "4                             800.0   \n",
      "\n",
      "   Usable Capital and Reserves (US$, millions)  Equity-to-Loans Ratio  \n",
      "0                                      33339.0                 0.3296  \n",
      "1                                      33754.0                 0.3505  \n",
      "2                                      36888.0                 0.3762  \n",
      "3                                      36328.0                 0.3428  \n",
      "4                                      36106.0                 0.2937  \n"
     ]
    }
   ],
   "source": [
    "import pandas as pd\n",
    "world = pd.read_csv('C:/Users/daisy/Desktop/data/world.csv')\n",
    "#world.map(lambda x: x.replace('world-','')).astype('category')\n",
    "#world['id'] = world.index\n",
    "print(world.head())"
   ]
  },
  {
   "cell_type": "code",
   "execution_count": 3,
   "metadata": {},
   "outputs": [
    {
     "name": "stdout",
     "output_type": "stream",
     "text": [
      "  Organization Fiscal Year  Commitments (total) (US$, millions)  \\\n",
      "0         IBRD        FY06                                14135   \n",
      "1          IDA        FY14                                22239   \n",
      "2          IDA        FY12                                14753   \n",
      "3         IBRD        FY07                                12829   \n",
      "4         IBRD        FY14                                18604   \n",
      "\n",
      "   Commitments (development policy lending) (US$, millions)  \\\n",
      "0                                               4906          \n",
      "1                                               2489          \n",
      "2                                               1827          \n",
      "3                                               3635          \n",
      "4                                               7997          \n",
      "\n",
      "   Gross Disbursements (total) (US$, millions)  \\\n",
      "0                                        11833   \n",
      "1                                        13432   \n",
      "2                                        11061   \n",
      "3                                        11055   \n",
      "4                                        18761   \n",
      "\n",
      "   Gross Disbursements (development policy lending) (US$, millions)  \\\n",
      "0                                               5406                  \n",
      "1                                               2644                  \n",
      "2                                               2092                  \n",
      "3                                               4096                  \n",
      "4                                               9786                  \n",
      "\n",
      "   Principal Repayments (including prepayments) (US$, millions)  \\\n",
      "0                                              13600              \n",
      "1                                               3636              \n",
      "2                                               4023              \n",
      "3                                              17231              \n",
      "4                                               9805              \n",
      "\n",
      "   Net Disbursements (US$, millions)  Loans Outstanding (US$, millions)  \\\n",
      "0                            -1767.0                           103004.0   \n",
      "1                             9878.0                                NaN   \n",
      "2                             7037.0                                NaN   \n",
      "3                            -6176.0                            97805.0   \n",
      "4                             8956.0                           154021.0   \n",
      "\n",
      "   Undisbursed Loans (US$, millions)  Credits Outstanding (US$, millions)  \\\n",
      "0                            34938.0                                  NaN   \n",
      "1                                NaN                             136011.0   \n",
      "2                                NaN                             123576.0   \n",
      "3                            35440.0                                  NaN   \n",
      "4                            58449.0                                  NaN   \n",
      "\n",
      "   Undisbursed Credits (US$, millions)  Undisbursed Grants (US$, millions)  \\\n",
      "0                                  NaN                                 NaN   \n",
      "1                              46844.0                              6983.0   \n",
      "2                              37144.0                              6161.0   \n",
      "3                                  NaN                                 NaN   \n",
      "4                                  NaN                                 NaN   \n",
      "\n",
      "   Development Grant Expenses (US$, millions)  \\\n",
      "0                                         NaN   \n",
      "1                                      2645.0   \n",
      "2                                      2062.0   \n",
      "3                                         NaN   \n",
      "4                                         NaN   \n",
      "\n",
      "   Operating Income (US$, millions)  \\\n",
      "0                            1740.0   \n",
      "1                               NaN   \n",
      "2                               NaN   \n",
      "3                            1659.0   \n",
      "4                             728.0   \n",
      "\n",
      "   Usable Capital and Reserves (US$, millions)  Equity-to-Loans Ratio  \n",
      "0                                      33339.0                 0.3296  \n",
      "1                                          NaN                    NaN  \n",
      "2                                          NaN                    NaN  \n",
      "3                                      33754.0                 0.3505  \n",
      "4                                      40467.0                 0.2570  \n",
      "  Organization Fiscal Year  Commitments (total) (US$, millions)  \\\n",
      "0         IBRD        FY06                                14135   \n",
      "1          IDA        FY14                                22239   \n",
      "2          IDA        FY12                                14753   \n",
      "3         IBRD        FY07                                12829   \n",
      "4         IBRD        FY14                                18604   \n",
      "\n",
      "   Commitments (development policy lending) (US$, millions)  \\\n",
      "0                                               4906          \n",
      "1                                               2489          \n",
      "2                                               1827          \n",
      "3                                               3635          \n",
      "4                                               7997          \n",
      "\n",
      "   Gross Disbursements (total) (US$, millions)  \\\n",
      "0                                        11833   \n",
      "1                                        13432   \n",
      "2                                        11061   \n",
      "3                                        11055   \n",
      "4                                        18761   \n",
      "\n",
      "   Gross Disbursements (development policy lending) (US$, millions)  \\\n",
      "0                                               5406                  \n",
      "1                                               2644                  \n",
      "2                                               2092                  \n",
      "3                                               4096                  \n",
      "4                                               9786                  \n",
      "\n",
      "   Principal Repayments (including prepayments) (US$, millions)  \\\n",
      "0                                              13600              \n",
      "1                                               3636              \n",
      "2                                               4023              \n",
      "3                                              17231              \n",
      "4                                               9805              \n",
      "\n",
      "   Net Disbursements (US$, millions)  Loans Outstanding (US$, millions)  \\\n",
      "0                            -1767.0                           103004.0   \n",
      "1                             9878.0                                0.0   \n",
      "2                             7037.0                                0.0   \n",
      "3                            -6176.0                            97805.0   \n",
      "4                             8956.0                           154021.0   \n",
      "\n",
      "   Undisbursed Loans (US$, millions)  Credits Outstanding (US$, millions)  \\\n",
      "0                            34938.0                                  0.0   \n",
      "1                                0.0                             136011.0   \n",
      "2                                0.0                             123576.0   \n",
      "3                            35440.0                                  0.0   \n",
      "4                            58449.0                                  0.0   \n",
      "\n",
      "   Undisbursed Credits (US$, millions)  Undisbursed Grants (US$, millions)  \\\n",
      "0                                  0.0                                 0.0   \n",
      "1                              46844.0                              6983.0   \n",
      "2                              37144.0                              6161.0   \n",
      "3                                  0.0                                 0.0   \n",
      "4                                  0.0                                 0.0   \n",
      "\n",
      "   Development Grant Expenses (US$, millions)  \\\n",
      "0                                         0.0   \n",
      "1                                      2645.0   \n",
      "2                                      2062.0   \n",
      "3                                         0.0   \n",
      "4                                         0.0   \n",
      "\n",
      "   Operating Income (US$, millions)  \\\n",
      "0                            1740.0   \n",
      "1                               0.0   \n",
      "2                               0.0   \n",
      "3                            1659.0   \n",
      "4                             728.0   \n",
      "\n",
      "   Usable Capital and Reserves (US$, millions)  Equity-to-Loans Ratio  \n",
      "0                                      33339.0                 0.3296  \n",
      "1                                          0.0                 0.0000  \n",
      "2                                          0.0                 0.0000  \n",
      "3                                      33754.0                 0.3505  \n",
      "4                                      40467.0                 0.2570  \n"
     ]
    }
   ],
   "source": [
    "random_state = RandomState(seed=42)\n",
    "world = world.sample(frac=1, random_state=random_state).reset_index(drop=True)\n",
    "print(world.head())\n",
    "world = world.fillna(0)\n",
    "print(world.head())"
   ]
  },
  {
   "cell_type": "code",
   "execution_count": 4,
   "metadata": {},
   "outputs": [
    {
     "name": "stdout",
     "output_type": "stream",
     "text": [
      "Fiscal Year\n",
      "FY06    2\n",
      "FY07    2\n",
      "FY08    2\n",
      "FY09    1\n",
      "FY10    2\n",
      "FY11    1\n",
      "FY12    1\n",
      "FY13    1\n",
      "FY14    2\n",
      "FY15    2\n",
      "dtype: int64\n",
      "Fiscal Year\n",
      "FY09    1\n",
      "FY11    1\n",
      "FY12    1\n",
      "FY13    1\n",
      "dtype: int64\n"
     ]
    }
   ],
   "source": [
    "train_split, test_split = train_test_split(world, train_size=0.8, random_state=random_state)\n",
    "print(train_split.groupby('Fiscal Year').size())\n",
    "print(test_split.groupby('Fiscal Year').size())"
   ]
  },
  {
   "cell_type": "code",
   "execution_count": 5,
   "metadata": {},
   "outputs": [
    {
     "name": "stdout",
     "output_type": "stream",
     "text": [
      "IDA     10\n",
      "IBRD    10\n",
      "Name: Organization_cat, dtype: int64\n",
      "|--- Net Disbursements (US$, millions) <= 8582.50\n",
      "|   |--- Commitments (total) (US$, millions) <= 14444.00\n",
      "|   |   |--- Gross Disbursements (total) (US$, millions) <= 8744.50\n",
      "|   |   |   |--- class: FY07\n",
      "|   |   |--- Gross Disbursements (total) (US$, millions) >  8744.50\n",
      "|   |   |   |--- Net Disbursements (US$, millions) <= -4148.00\n",
      "|   |   |   |   |--- class: FY07\n",
      "|   |   |   |--- Net Disbursements (US$, millions) >  -4148.00\n",
      "|   |   |   |   |--- Operating Income (US$, millions) <= 2005.50\n",
      "|   |   |   |   |   |--- Development Grant Expenses (US$, millions) <= 2545.00\n",
      "|   |   |   |   |   |   |--- class: FY06\n",
      "|   |   |   |   |   |--- Development Grant Expenses (US$, millions) >  2545.00\n",
      "|   |   |   |   |   |   |--- class: FY08\n",
      "|   |   |   |   |--- Operating Income (US$, millions) >  2005.50\n",
      "|   |   |   |   |   |--- class: FY08\n",
      "|   |--- Commitments (total) (US$, millions) >  14444.00\n",
      "|   |   |--- Usable Capital and Reserves (US$, millions) <= 18164.00\n",
      "|   |   |   |--- Principal Repayments (including prepayments) (US$, millions) <= 3173.00\n",
      "|   |   |   |   |--- class: FY11\n",
      "|   |   |   |--- Principal Repayments (including prepayments) (US$, millions) >  3173.00\n",
      "|   |   |   |   |--- Net Disbursements (US$, millions) <= 7204.00\n",
      "|   |   |   |   |   |--- class: FY12\n",
      "|   |   |   |   |--- Net Disbursements (US$, millions) >  7204.00\n",
      "|   |   |   |   |   |--- class: FY13\n",
      "|   |   |--- Usable Capital and Reserves (US$, millions) >  18164.00\n",
      "|   |   |   |--- class: FY09\n",
      "|--- Net Disbursements (US$, millions) >  8582.50\n",
      "|   |--- Loans Outstanding (US$, millions) <= 155516.50\n",
      "|   |   |--- Gross Disbursements (development policy lending) (US$, millions) <= 2324.50\n",
      "|   |   |   |--- class: FY15\n",
      "|   |   |--- Gross Disbursements (development policy lending) (US$, millions) >  2324.50\n",
      "|   |   |   |--- Gross Disbursements (development policy lending) (US$, millions) <= 2936.00\n",
      "|   |   |   |   |--- class: FY14\n",
      "|   |   |   |--- Gross Disbursements (development policy lending) (US$, millions) >  2936.00\n",
      "|   |   |   |   |--- Usable Capital and Reserves (US$, millions) <= 38286.50\n",
      "|   |   |   |   |   |--- class: FY10\n",
      "|   |   |   |   |--- Usable Capital and Reserves (US$, millions) >  38286.50\n",
      "|   |   |   |   |   |--- class: FY14\n",
      "|   |--- Loans Outstanding (US$, millions) >  155516.50\n",
      "|   |   |--- class: FY15\n",
      "\n"
     ]
    }
   ],
   "source": [
    "world['Organization_cat'] = world['Organization'].astype('category')\n",
    "#world['Organization_cat'] = world['Organization_cat'].cat.codes\n",
    "print(world['Organization_cat'].value_counts())\n",
    "\n",
    "tree = DecisionTreeClassifier(random_state=random_state)\n",
    "train_data = train_split.drop(['Fiscal Year','Organization'], axis=1)\n",
    "train_target = train_split['Fiscal Year']\n",
    "fitted_tree = tree.fit(train_data, train_target)\n",
    "print(export_text(fitted_tree, feature_names=list(train_data.columns)))\n"
   ]
  },
  {
   "cell_type": "code",
   "execution_count": 6,
   "metadata": {},
   "outputs": [],
   "source": [
    "#world.info()"
   ]
  },
  {
   "cell_type": "code",
   "execution_count": 7,
   "metadata": {},
   "outputs": [],
   "source": [
    "# Cell 6\n",
    "test_data = test_split.drop(['Fiscal Year','Organization'], axis=1)\n",
    "test_target = test_split['Fiscal Year']\n",
    "result_data = test_split.copy()\n",
    "result_data['PredictedValue'] = fitted_tree.predict(test_data)\n",
    "result_data['Prediction'] = result_data.apply(lambda x: x['Fiscal Year'].capitalize() if x['Fiscal Year'] == x['PredictedValue'] else 'Classification failure', axis=1)"
   ]
  },
  {
   "cell_type": "code",
   "execution_count": 9,
   "metadata": {},
   "outputs": [
    {
     "data": {
      "text/plain": [
       "0.0"
      ]
     },
     "execution_count": 9,
     "metadata": {},
     "output_type": "execute_result"
    }
   ],
   "source": [
    "# Cell 7\n",
    "confusion_matrix(result_data['PredictedValue'], result_data['Fiscal Year'])\n",
    "accuracy_score(result_data['PredictedValue'], result_data['Fiscal Year'])"
   ]
  },
  {
   "cell_type": "code",
   "execution_count": 11,
   "metadata": {},
   "outputs": [
    {
     "data": {
      "text/plain": [
       "<AxesSubplot:xlabel='Loans Outstanding (US$, millions)', ylabel='Commitments (total) (US$, millions)'>"
      ]
     },
     "execution_count": 11,
     "metadata": {},
     "output_type": "execute_result"
    },
    {
     "data": {
      "image/png": "[encoded data removed]",
      "text/plain": [
       "<Figure size 468x468 with 1 Axes>"
      ]
     },
     "metadata": {
      "needs_background": "light"
     },
     "output_type": "display_data"
    }
   ],
   "source": [
    "# Cell 8\n",
    "fiscal_plot, fiscal_plot_ax = plt.subplots(figsize=(6.5, 6.5))\n",
    "sb.scatterplot(x='Loans Outstanding (US$, millions)', y='Commitments (total) (US$, millions)', data=test_data, hue=result_data['Prediction'])\n",
    "#petal_plot, petal_plot_ax = plt.subplots(figsize=(6.5, 6.5))\n",
    "#sb.scatterplot(x='Petal.Width', y='Petal.Length', data=test_data, hue=result_data['Prediction'])"
   ]
  },
  {
   "cell_type": "code",
   "execution_count": null,
   "metadata": {},
   "outputs": [],
   "source": []
  }
 ],
 "metadata": {
  "kernelspec": {
   "display_name": "Python 3",
   "language": "python",
   "name": "python3"
  },
  "language_info": {
   "codemirror_mode": {
    "name": "ipython",
    "version": 3
   },
   "file_extension": ".py",
   "mimetype": "text/x-python",
   "name": "python",
   "nbconvert_exporter": "python",
   "pygments_lexer": "ipython3",
   "version": "3.7.1"
  }
 },
 "nbformat": 4,
 "nbformat_minor": 4
}
