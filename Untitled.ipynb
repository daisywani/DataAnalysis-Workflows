{
 "cells": [
  {
   "cell_type": "code",
   "execution_count": 9,
   "metadata": {},
   "outputs": [],
   "source": [
    "import pandas as pd\n",
    "import matplotlib.pyplot as plt\n",
    "import seaborn as sb\n",
    "from numpy.random import RandomState\n",
    "from sklearn.model_selection import train_test_split\n",
    "from sklearn.tree import DecisionTreeClassifier, export_text\n",
    "from sklearn.metrics import accuracy_score, confusion_matrix"
   ]
  },
  {
   "cell_type": "code",
   "execution_count": 10,
   "metadata": {},
   "outputs": [
    {
     "name": "stdout",
     "output_type": "stream",
     "text": [
      "    auctionid    bid   bidtime                     bidder  bidderrate  \\\n",
      "0  1638893549  175.0  2.230949               schadenfreud         0.0   \n",
      "1  1638893549  100.0  2.600116                      chuik         0.0   \n",
      "2  1638893549  120.0  2.600810                 kiwisstuff         2.0   \n",
      "3  1638893549  150.0  2.601076                 kiwisstuff         2.0   \n",
      "4  1638893549  177.5  2.909826  eli.flint@flightsafety.co         4.0   \n",
      "\n",
      "   openbid  price                item   auction_type  \n",
      "0     99.0  177.5  Cartier wristwatch  3 day auction  \n",
      "1     99.0  177.5  Cartier wristwatch  3 day auction  \n",
      "2     99.0  177.5  Cartier wristwatch  3 day auction  \n",
      "3     99.0  177.5  Cartier wristwatch  3 day auction  \n",
      "4     99.0  177.5  Cartier wristwatch  3 day auction  \n"
     ]
    }
   ],
   "source": [
    "auction = pd.read_csv('C:/Users/daisy/Desktop/data/auction.csv')\n",
    "#auction['bid'] = auction['bid'].map(lambda x: x.replace('auction-','')).astype('category')\n",
    "#auction['auctionid'] = auction.index\n",
    "print(auction.head())"
   ]
  },
  {
   "cell_type": "code",
   "execution_count": 15,
   "metadata": {},
   "outputs": [
    {
     "name": "stdout",
     "output_type": "stream",
     "text": [
      "    auctionid     bid   bidtime         bidder  bidderrate  openbid   price  \\\n",
      "0  1644760539   65.50  1.176192        bosspad         2.0     1.00  327.23   \n",
      "1  8212629520    1.00  0.027523     america500        25.0     0.01  132.55   \n",
      "2  3018994053  150.01  2.935810  paramedic1865         1.0     0.01  177.50   \n",
      "3  3023639205  103.67  1.787150     carmenalex         9.0     9.99  222.50   \n",
      "4  3019173309   80.00  5.588070  usamotion2003         3.0     0.01  230.00   \n",
      "\n",
      "                  item   auction_type  \n",
      "0   Cartier wristwatch  7 day auction  \n",
      "1    Xbox game console  7 day auction  \n",
      "2  Palm Pilot M515 PDA  3 day auction  \n",
      "3  Palm Pilot M515 PDA  7 day auction  \n",
      "4  Palm Pilot M515 PDA  7 day auction  \n"
     ]
    }
   ],
   "source": [
    "random_state = RandomState(seed=42)\n",
    "auction = auction.sample(frac=1, random_state=random_state).reset_index(drop=True)\n",
    "print(auction.head())"
   ]
  },
  {
   "cell_type": "code",
   "execution_count": 16,
   "metadata": {},
   "outputs": [
    {
     "name": "stdout",
     "output_type": "stream",
     "text": [
      "item\n",
      "Cartier wristwatch     1571\n",
      "Palm Pilot M515 PDA    4764\n",
      "Xbox game console      2209\n",
      "dtype: int64\n",
      "item\n",
      "Cartier wristwatch      382\n",
      "Palm Pilot M515 PDA    1153\n",
      "Xbox game console       602\n",
      "dtype: int64\n"
     ]
    }
   ],
   "source": [
    "train_split, test_split = train_test_split(auction, train_size=0.8, random_state=random_state)\n",
    "print(train_split.groupby('item').size())\n",
    "print(test_split.groupby('item').size())"
   ]
  },
  {
   "cell_type": "code",
   "execution_count": 56,
   "metadata": {},
   "outputs": [
    {
     "name": "stdout",
     "output_type": "stream",
     "text": [
      "warrencheryl    45\n",
      "mregestr        33\n",
      "zebedin         33\n",
      "babygirljrt     32\n",
      "macdonn         31\n",
      "                ..\n",
      "justinhieu       1\n",
      "wacquiekatt      1\n",
      "jviales          1\n",
      "jwacht           1\n",
      "zzz45s           1\n",
      "Name: bidder_cat, Length: 3387, dtype: int64\n",
      "7 day auction    7041\n",
      "3 day auction    2023\n",
      "5 day auction    1617\n",
      "Name: auction_type_cat, dtype: int64\n"
     ]
    },
    {
     "ename": "ValueError",
     "evalue": "This DecisionTreeClassifier estimator requires y to be passed, but the target y is None.",
     "output_type": "error",
     "traceback": [
      "\u001b[1;31m---------------------------------------------------------------------------\u001b[0m",
      "\u001b[1;31mValueError\u001b[0m                                Traceback (most recent call last)",
      "\u001b[1;32m<ipython-input-56-c0a2f951b73f>\u001b[0m in \u001b[0;36m<module>\u001b[1;34m\u001b[0m\n\u001b[0;32m     16\u001b[0m \u001b[0mtrain_data\u001b[0m \u001b[1;33m=\u001b[0m \u001b[0mtrain_split\u001b[0m\u001b[1;33m.\u001b[0m\u001b[0mdrop\u001b[0m\u001b[1;33m(\u001b[0m\u001b[1;33m[\u001b[0m\u001b[1;34m'item'\u001b[0m\u001b[1;33m,\u001b[0m\u001b[1;34m'bidder'\u001b[0m\u001b[1;33m,\u001b[0m\u001b[1;34m'auction_type'\u001b[0m\u001b[1;33m]\u001b[0m\u001b[1;33m,\u001b[0m \u001b[0maxis\u001b[0m\u001b[1;33m=\u001b[0m\u001b[1;36m1\u001b[0m\u001b[1;33m)\u001b[0m\u001b[1;33m.\u001b[0m\u001b[0mfillna\u001b[0m\u001b[1;33m(\u001b[0m\u001b[1;34m'Unknown'\u001b[0m\u001b[1;33m,\u001b[0m\u001b[0minplace\u001b[0m\u001b[1;33m=\u001b[0m\u001b[1;32mTrue\u001b[0m\u001b[1;33m)\u001b[0m\u001b[1;33m\u001b[0m\u001b[1;33m\u001b[0m\u001b[0m\n\u001b[0;32m     17\u001b[0m \u001b[0mtrain_target\u001b[0m \u001b[1;33m=\u001b[0m \u001b[0mtrain_split\u001b[0m\u001b[1;33m[\u001b[0m\u001b[1;34m'item'\u001b[0m\u001b[1;33m]\u001b[0m\u001b[1;33m.\u001b[0m\u001b[0mfillna\u001b[0m\u001b[1;33m(\u001b[0m\u001b[1;34m'Missing'\u001b[0m\u001b[1;33m,\u001b[0m\u001b[0minplace\u001b[0m\u001b[1;33m=\u001b[0m\u001b[1;32mTrue\u001b[0m\u001b[1;33m)\u001b[0m\u001b[1;33m\u001b[0m\u001b[1;33m\u001b[0m\u001b[0m\n\u001b[1;32m---> 18\u001b[1;33m \u001b[0mfitted_tree\u001b[0m \u001b[1;33m=\u001b[0m \u001b[0mtree\u001b[0m\u001b[1;33m.\u001b[0m\u001b[0mfit\u001b[0m\u001b[1;33m(\u001b[0m\u001b[0mtrain_data\u001b[0m\u001b[1;33m,\u001b[0m \u001b[0mtrain_target\u001b[0m\u001b[1;33m)\u001b[0m\u001b[1;33m\u001b[0m\u001b[1;33m\u001b[0m\u001b[0m\n\u001b[0m\u001b[0;32m     19\u001b[0m \u001b[0mpath\u001b[0m \u001b[1;33m=\u001b[0m \u001b[0mtree\u001b[0m\u001b[1;33m.\u001b[0m\u001b[0mcost_complexity_pruning_path\u001b[0m\u001b[1;33m(\u001b[0m\u001b[0mtrain_data\u001b[0m\u001b[1;33m,\u001b[0m \u001b[0mtrain_target\u001b[0m\u001b[1;33m)\u001b[0m\u001b[1;33m\u001b[0m\u001b[1;33m\u001b[0m\u001b[0m\n\u001b[0;32m     20\u001b[0m \u001b[0mccp_alphas\u001b[0m\u001b[1;33m,\u001b[0m \u001b[0mimpurities\u001b[0m \u001b[1;33m=\u001b[0m \u001b[0mpath\u001b[0m\u001b[1;33m.\u001b[0m\u001b[0mccp_alphas\u001b[0m\u001b[1;33m,\u001b[0m \u001b[0mpath\u001b[0m\u001b[1;33m.\u001b[0m\u001b[0mimpurities\u001b[0m\u001b[1;33m\u001b[0m\u001b[1;33m\u001b[0m\u001b[0m\n",
      "\u001b[1;32m~\\anaconda3\\envs\\dataanalysis\\lib\\site-packages\\sklearn\\tree\\_classes.py\u001b[0m in \u001b[0;36mfit\u001b[1;34m(self, X, y, sample_weight, check_input, X_idx_sorted)\u001b[0m\n\u001b[0;32m    892\u001b[0m             \u001b[0msample_weight\u001b[0m\u001b[1;33m=\u001b[0m\u001b[0msample_weight\u001b[0m\u001b[1;33m,\u001b[0m\u001b[1;33m\u001b[0m\u001b[1;33m\u001b[0m\u001b[0m\n\u001b[0;32m    893\u001b[0m             \u001b[0mcheck_input\u001b[0m\u001b[1;33m=\u001b[0m\u001b[0mcheck_input\u001b[0m\u001b[1;33m,\u001b[0m\u001b[1;33m\u001b[0m\u001b[1;33m\u001b[0m\u001b[0m\n\u001b[1;32m--> 894\u001b[1;33m             X_idx_sorted=X_idx_sorted)\n\u001b[0m\u001b[0;32m    895\u001b[0m         \u001b[1;32mreturn\u001b[0m \u001b[0mself\u001b[0m\u001b[1;33m\u001b[0m\u001b[1;33m\u001b[0m\u001b[0m\n\u001b[0;32m    896\u001b[0m \u001b[1;33m\u001b[0m\u001b[0m\n",
      "\u001b[1;32m~\\anaconda3\\envs\\dataanalysis\\lib\\site-packages\\sklearn\\tree\\_classes.py\u001b[0m in \u001b[0;36mfit\u001b[1;34m(self, X, y, sample_weight, check_input, X_idx_sorted)\u001b[0m\n\u001b[0;32m    156\u001b[0m             X, y = self._validate_data(X, y,\n\u001b[0;32m    157\u001b[0m                                        validate_separately=(check_X_params,\n\u001b[1;32m--> 158\u001b[1;33m                                                             check_y_params))\n\u001b[0m\u001b[0;32m    159\u001b[0m             \u001b[1;32mif\u001b[0m \u001b[0missparse\u001b[0m\u001b[1;33m(\u001b[0m\u001b[0mX\u001b[0m\u001b[1;33m)\u001b[0m\u001b[1;33m:\u001b[0m\u001b[1;33m\u001b[0m\u001b[1;33m\u001b[0m\u001b[0m\n\u001b[0;32m    160\u001b[0m                 \u001b[0mX\u001b[0m\u001b[1;33m.\u001b[0m\u001b[0msort_indices\u001b[0m\u001b[1;33m(\u001b[0m\u001b[1;33m)\u001b[0m\u001b[1;33m\u001b[0m\u001b[1;33m\u001b[0m\u001b[0m\n",
      "\u001b[1;32m~\\anaconda3\\envs\\dataanalysis\\lib\\site-packages\\sklearn\\base.py\u001b[0m in \u001b[0;36m_validate_data\u001b[1;34m(self, X, y, reset, validate_separately, **check_params)\u001b[0m\n\u001b[0;32m    415\u001b[0m             \u001b[1;32mif\u001b[0m \u001b[0mself\u001b[0m\u001b[1;33m.\u001b[0m\u001b[0m_get_tags\u001b[0m\u001b[1;33m(\u001b[0m\u001b[1;33m)\u001b[0m\u001b[1;33m[\u001b[0m\u001b[1;34m'requires_y'\u001b[0m\u001b[1;33m]\u001b[0m\u001b[1;33m:\u001b[0m\u001b[1;33m\u001b[0m\u001b[1;33m\u001b[0m\u001b[0m\n\u001b[0;32m    416\u001b[0m                 raise ValueError(\n\u001b[1;32m--> 417\u001b[1;33m                     \u001b[1;34mf\"This {self.__class__.__name__} estimator \"\u001b[0m\u001b[1;33m\u001b[0m\u001b[1;33m\u001b[0m\u001b[0m\n\u001b[0m\u001b[0;32m    418\u001b[0m                     \u001b[1;34mf\"requires y to be passed, but the target y is None.\"\u001b[0m\u001b[1;33m\u001b[0m\u001b[1;33m\u001b[0m\u001b[0m\n\u001b[0;32m    419\u001b[0m                 )\n",
      "\u001b[1;31mValueError\u001b[0m: This DecisionTreeClassifier estimator requires y to be passed, but the target y is None."
     ]
    }
   ],
   "source": [
    "auction['bidder_cat'] = auction['bidder'].astype('category')\n",
    "print(auction['bidder_cat'].value_counts())\n",
    "auction['auction_type_cat'] = auction['auction_type'].astype('category')\n",
    "print(auction['auction_type_cat'].value_counts())\n",
    "\n",
    "tree = DecisionTreeClassifier(random_state=0)\n",
    "train_data = train_split.drop(['item','bidder','auction_type'], axis=1).fillna('Unknown',inplace=True)\n",
    "train_target = train_split['item'].fillna('Missing',inplace=True)\n",
    "fitted_tree = tree.fit(train_data, train_target)\n",
    "path = tree.cost_complexity_pruning_path(train_data, train_target)\n",
    "ccp_alphas, impurities = path.ccp_alphas, path.impurities\n",
    "print(export_text(fitted_tree, feature_names=list(train_data.columns)))"
   ]
  },
  {
   "cell_type": "code",
   "execution_count": null,
   "metadata": {},
   "outputs": [],
   "source": []
  }
 ],
 "metadata": {
  "kernelspec": {
   "display_name": "Python 3",
   "language": "python",
   "name": "python3"
  },
  "language_info": {
   "codemirror_mode": {
    "name": "ipython",
    "version": 3
   },
   "file_extension": ".py",
   "mimetype": "text/x-python",
   "name": "python",
   "nbconvert_exporter": "python",
   "pygments_lexer": "ipython3",
   "version": "3.7.1"
  }
 },
 "nbformat": 4,
 "nbformat_minor": 4
}
